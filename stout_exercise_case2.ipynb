{
 "cells": [
  {
   "cell_type": "code",
   "execution_count": null,
   "id": "vietnamese-probe",
   "metadata": {},
   "outputs": [],
   "source": [
    "import pandas as pd\n",
    "import numpy as np"
   ]
  },
  {
   "cell_type": "code",
   "execution_count": null,
   "id": "imposed-custody",
   "metadata": {},
   "outputs": [],
   "source": [
    "# load data\n",
    "df = pd.read_csv('./data/casestudy.csv')\n",
    "df.head(10)"
   ]
  },
  {
   "cell_type": "code",
   "execution_count": null,
   "id": "religious-workplace",
   "metadata": {},
   "outputs": [],
   "source": [
    "years = pd.unique(df['year'])"
   ]
  },
  {
   "cell_type": "code",
   "execution_count": null,
   "id": "scheduled-sacrifice",
   "metadata": {},
   "outputs": [],
   "source": [
    "# Total revenue for the current year\n",
    "total_2015 = df.loc[df['year'] == 2015]['net_revenue'].sum()\n",
    "total_2016 = df.loc[df['year'] == 2016]['net_revenue'].sum()\n",
    "total_2017 = df.loc[df['year'] == 2017]['net_revenue'].sum()\n",
    "\n",
    "print(total_2015)\n",
    "print(total_2016)\n",
    "print(total_2017)"
   ]
  },
  {
   "cell_type": "code",
   "execution_count": null,
   "id": "lovely-connecticut",
   "metadata": {},
   "outputs": [],
   "source": [
    "# New Customer Revenue\n",
    "order_2015 = df.loc[df['year'] == 2015].copy()\n",
    "order_2016 = df.loc[df['year'] == 2016].copy()\n",
    "order_2017 = df.loc[df['year'] == 2017].copy()\n",
    "\n",
    "new_cus_2016 = order_2016.loc[~order_2016['customer_email'].isin(order_2015['customer_email'])].copy()\n",
    "new_cus_2017 = order_2017.loc[~order_2017['customer_email'].isin(order_2016['customer_email'])].copy()\n",
    "\n",
    "print(order_2015['net_revenue'].sum())\n",
    "print(new_cus_2016['net_revenue'].sum())\n",
    "print(new_cus_2017['net_revenue'].sum())"
   ]
  },
  {
   "cell_type": "code",
   "execution_count": null,
   "id": "suspected-pioneer",
   "metadata": {},
   "outputs": [],
   "source": [
    "# Existing Customer Revenue Current Year\n",
    "\n",
    "exist_cus_2016 = order_2016.loc[order_2016['customer_email'].isin(order_2015['customer_email'])].copy()\n",
    "exist_cus_2017 = order_2017.loc[order_2017['customer_email'].isin(order_2016['customer_email'])].copy()\n",
    "\n",
    "print(exist_cus_2016['net_revenue'].sum())\n",
    "print(exist_cus_2017['net_revenue'].sum())"
   ]
  },
  {
   "cell_type": "code",
   "execution_count": null,
   "id": "sharp-station",
   "metadata": {},
   "outputs": [],
   "source": [
    "# Existing Customer Revenue Prior Year\n",
    "\n",
    "exist_2016_in_2015 = order_2015.loc[order_2015['customer_email'].isin(exist_cus_2016['customer_email'])].copy()\n",
    "exist_2017_in_2016 = order_2016.loc[order_2016['customer_email'].isin(exist_cus_2017['customer_email'])].copy()\n",
    "\n",
    "print(exist_2016_in_2015['net_revenue'].sum())\n",
    "print(exist_2017_in_2016['net_revenue'].sum())"
   ]
  },
  {
   "cell_type": "code",
   "execution_count": null,
   "id": "enclosed-sister",
   "metadata": {},
   "outputs": [],
   "source": [
    "# Existing Customer Growth\n",
    "\n",
    "print(exist_cus_2016['net_revenue'].sum() - exist_2016_in_2015['net_revenue'].sum())\n",
    "print(exist_cus_2017['net_revenue'].sum() - exist_2017_in_2016['net_revenue'].sum())"
   ]
  },
  {
   "cell_type": "code",
   "execution_count": null,
   "id": "fitted-scratch",
   "metadata": {},
   "outputs": [],
   "source": [
    "# Revenue lost from attrition\n",
    "\n",
    "attr_2016 = order_2015.loc[~order_2015['customer_email'].isin(order_2016['customer_email'])].copy()\n",
    "attr_2017 = order_2016.loc[~order_2016['customer_email'].isin(order_2017['customer_email'])].copy()\n",
    "\n",
    "print(attr_2016['net_revenue'].sum())\n",
    "print(attr_2017['net_revenue'].sum())"
   ]
  },
  {
   "cell_type": "code",
   "execution_count": null,
   "id": "aerial-subscription",
   "metadata": {},
   "outputs": [],
   "source": [
    "# Total Customers Current Year\n",
    "\n",
    "print(order_2015.drop_duplicates(subset=['customer_email']).shape[0])\n",
    "\n",
    "print(order_2016.drop_duplicates(subset=['customer_email']).shape[0])\n",
    "\n",
    "print(order_2017.drop_duplicates(subset=['customer_email']).shape[0])"
   ]
  },
  {
   "cell_type": "code",
   "execution_count": null,
   "id": "sophisticated-brake",
   "metadata": {},
   "outputs": [],
   "source": [
    "# New Customers\n",
    "\n",
    "print(new_cus_2016.shape[0])\n",
    "\n",
    "print(new_cus_2017.shape[0])"
   ]
  },
  {
   "cell_type": "code",
   "execution_count": null,
   "id": "defined-reviewer",
   "metadata": {},
   "outputs": [],
   "source": [
    "# Lost Customers\n",
    "\n",
    "print(attr_2016.shape[0])\n",
    "\n",
    "print(attr_2017.shape[0])"
   ]
  }
 ],
 "metadata": {
  "kernelspec": {
   "display_name": "stoutExercise",
   "language": "python",
   "name": "stoutexercise"
  },
  "language_info": {
   "codemirror_mode": {
    "name": "ipython",
    "version": 3
   },
   "file_extension": ".py",
   "mimetype": "text/x-python",
   "name": "python",
   "nbconvert_exporter": "python",
   "pygments_lexer": "ipython3",
   "version": "3.7.2"
  }
 },
 "nbformat": 4,
 "nbformat_minor": 5
}
